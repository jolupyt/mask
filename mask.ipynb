{
  "nbformat": 4,
  "nbformat_minor": 0,
  "metadata": {
    "colab": {
      "provenance": [],
      "authorship_tag": "ABX9TyMqkNIYxyE8thsTCqJoL/rX"
    },
    "kernelspec": {
      "name": "python3",
      "display_name": "Python 3"
    },
    "language_info": {
      "name": "python"
    }
  },
  "cells": [
    {
      "cell_type": "code",
      "execution_count": 6,
      "metadata": {
        "id": "cJ9xior5MoO3"
      },
      "outputs": [],
      "source": [
        "import requests\n",
        "import json"
      ]
    },
    {
      "cell_type": "code",
      "source": [
        "# 利用 requests 對 API 來源發送一個請求\n",
        "url = 'https://raw.githubusercontent.com/kiang/pharmacies/master/json/points.json'\n",
        "res = requests.get(url)\n",
        "\n",
        "# 將請求回應的內容存成一個字串格式\n",
        "text = res.text\n",
        "\n",
        "# json格式的字串解析成字典或列表\n",
        "data = json.loads(text)\n",
        "\n",
        "print(data)"
      ],
      "metadata": {
        "id": "zAUNwx9SMx5G"
      },
      "execution_count": null,
      "outputs": []
    },
    {
      "cell_type": "code",
      "source": [
        "# 計算各縣市藥局數量\n",
        "print(len(data['features']))\n",
        "data['features'][0].keys() # ['type', 'properties', 'geometry']\n",
        "data['features'][0]['properties'] # 基本資料在properties裡\n",
        "\n",
        "length = len(data['features'])\n",
        "med_count = {}\n",
        "for i in range(length):\n",
        "    county = data['features'][i]['properties']['county']\n",
        "    if county not in med_count:\n",
        "        med_count[county] = 0\n",
        "    med_count[county] += 1\n",
        "\n",
        "med_count_sort = sorted(med_count.items(), key=lambda x: x[1], reverse=True) # return list\n",
        "print(med_count_sort)"
      ],
      "metadata": {
        "id": "l3gNRBImNo9d",
        "colab": {
          "base_uri": "https://localhost:8080/"
        },
        "outputId": "9d1db33d-3460-44ac-f7d7-4ec566702c5b"
      },
      "execution_count": 36,
      "outputs": [
        {
          "output_type": "stream",
          "name": "stdout",
          "text": [
            "3293\n",
            "[('新北市', 501), ('高雄市', 422), ('臺中市', 420), ('臺北市', 339), ('臺南市', 271), ('桃園市', 264), ('彰化縣', 179), ('屏東縣', 140), ('雲林縣', 129), ('嘉義縣', 84), ('宜蘭縣', 76), ('嘉義市', 67), ('南投縣', 67), ('基隆市', 57), ('苗栗縣', 56), ('', 49), ('新竹縣', 46), ('花蓮縣', 46), ('新竹市', 39), ('臺東縣', 23), ('澎湖縣', 11), ('金門縣', 6), ('連江縣', 1)]\n"
          ]
        }
      ]
    }
  ]
}