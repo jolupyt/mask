{
  "nbformat": 4,
  "nbformat_minor": 0,
  "metadata": {
    "colab": {
      "provenance": [],
      "authorship_tag": "ABX9TyOeewv/Zd8xwGQ5W5aDIL6B"
    },
    "kernelspec": {
      "name": "python3",
      "display_name": "Python 3"
    },
    "language_info": {
      "name": "python"
    }
  },
  "cells": [
    {
      "cell_type": "markdown",
      "source": [
        "# 與github連結"
      ],
      "metadata": {
        "id": "aMx1f0-Mxyu2"
      }
    },
    {
      "cell_type": "code",
      "execution_count": 1,
      "metadata": {
        "id": "cJ9xior5MoO3"
      },
      "outputs": [],
      "source": [
        "import requests\n",
        "import json"
      ]
    },
    {
      "cell_type": "code",
      "source": [
        "# 利用 requests 對 API 來源發送一個請求\n",
        "url = 'https://raw.githubusercontent.com/kiang/pharmacies/master/json/points.json'\n",
        "res = requests.get(url)\n",
        "\n",
        "# 將請求回應的內容存成一個字串格式\n",
        "text = res.text\n",
        "\n",
        "# json格式的字串解析成字典或列表\n",
        "data = json.loads(text) # must be str\n",
        "\n",
        "print(data)"
      ],
      "metadata": {
        "id": "zAUNwx9SMx5G",
        "colab": {
          "base_uri": "https://localhost:8080/"
        },
        "outputId": "e460e720-8ce2-4c88-eca6-f3ba4556bbb3"
      },
      "execution_count": 2,
      "outputs": [
        {
          "output_type": "stream",
          "name": "stderr",
          "text": [
            "IOPub data rate exceeded.\n",
            "The notebook server will temporarily stop sending output\n",
            "to the client in order to avoid crashing it.\n",
            "To change this limit, set the config variable\n",
            "`--NotebookApp.iopub_data_rate_limit`.\n",
            "\n",
            "Current values:\n",
            "NotebookApp.iopub_data_rate_limit=1000000.0 (bytes/sec)\n",
            "NotebookApp.rate_limit_window=3.0 (secs)\n",
            "\n"
          ]
        }
      ]
    },
    {
      "cell_type": "code",
      "source": [
        "# 計算各縣市藥局數量\n",
        "print(len(data['features']))\n",
        "data['features'][0].keys() # ['type', 'properties', 'geometry']\n",
        "data['features'][0]['properties'] # 基本資料在properties裡\n",
        "\n",
        "length = len(data['features'])\n",
        "med_count = {}\n",
        "for i in range(length):\n",
        "    county = data['features'][i]['properties']['county']\n",
        "    if county == '':\n",
        "        county = '未知'\n",
        "    if county not in med_count:\n",
        "        med_count[county] = 0\n",
        "    med_count[county] += 1\n",
        "\n",
        "med_count_sort = dict(sorted(med_count.items(), key=lambda x: x[1], reverse=True)) # return dict\n",
        "print(med_count_sort)"
      ],
      "metadata": {
        "id": "l3gNRBImNo9d",
        "colab": {
          "base_uri": "https://localhost:8080/"
        },
        "outputId": "c22e5872-75c9-48dc-ea58-840a2b02b34e"
      },
      "execution_count": 3,
      "outputs": [
        {
          "output_type": "stream",
          "name": "stdout",
          "text": [
            "3293\n",
            "{'新北市': 501, '高雄市': 422, '臺中市': 420, '臺北市': 339, '臺南市': 271, '桃園市': 264, '彰化縣': 179, '屏東縣': 140, '雲林縣': 129, '嘉義縣': 84, '宜蘭縣': 76, '嘉義市': 67, '南投縣': 67, '基隆市': 57, '苗栗縣': 56, '未知': 49, '新竹縣': 46, '花蓮縣': 46, '新竹市': 39, '臺東縣': 23, '澎湖縣': 11, '金門縣': 6, '連江縣': 1}\n"
          ]
        }
      ]
    },
    {
      "cell_type": "code",
      "source": [
        "# 計算各縣市的成人剩餘口罩數量\n",
        "adult_mask_count = {}\n",
        "\n",
        "for i in range(length):\n",
        "    county = data['features'][i]['properties']['county']\n",
        "    if county == '':\n",
        "        county = '未知'\n",
        "    adult_mask = data['features'][i]['properties']['mask_adult']\n",
        "    if county not in adult_mask_count:\n",
        "        adult_mask_count[county] = 0\n",
        "    adult_mask_count[county] += adult_mask\n",
        "\n",
        "adult_mask_count_sort = dict(sorted(adult_mask_count.items(), key=lambda x: x[1], reverse=True))\n",
        "print(adult_mask_count_sort)"
      ],
      "metadata": {
        "colab": {
          "base_uri": "https://localhost:8080/"
        },
        "id": "weNHf1-rldUS",
        "outputId": "b05119a7-4918-42bf-f9c7-de6d4ad9cef2"
      },
      "execution_count": null,
      "outputs": [
        {
          "output_type": "stream",
          "name": "stdout",
          "text": [
            "{'新北市': 670270, '臺中市': 536710, '高雄市': 424170, '臺南市': 393900, '桃園市': 331940, '臺北市': 322490, '彰化縣': 219400, '雲林縣': 196990, '屏東縣': 184250, '苗栗縣': 131080, '嘉義縣': 113180, '嘉義市': 107840, '宜蘭縣': 106900, '南投縣': 91240, '基隆市': 80100, '未知': 69210, '花蓮縣': 57330, '新竹縣': 51350, '新竹市': 45630, '臺東縣': 28510, '金門縣': 15510, '澎湖縣': 12600, '連江縣': 7930}\n"
          ]
        }
      ]
    },
    {
      "cell_type": "code",
      "source": [
        "# 計算各縣市的小孩剩餘口罩數量\n",
        "child_mask_count = {}\n",
        "\n",
        "for i in range(length):\n",
        "    county = data['features'][i]['properties']['county']\n",
        "    if county == '':\n",
        "        county = '未知'\n",
        "    child_mask = data['features'][i]['properties']['mask_child']\n",
        "    if county not in child_mask_count:\n",
        "        child_mask_count[county] = 0\n",
        "    child_mask_count[county] += child_mask\n",
        "\n",
        "child_mask_count_sort = dict(sorted(child_mask_count.items(), key=lambda x: x[1], reverse=True))\n",
        "print(child_mask_count_sort)"
      ],
      "metadata": {
        "colab": {
          "base_uri": "https://localhost:8080/"
        },
        "id": "Z8JWFg26ldO6",
        "outputId": "2db67fc4-0298-48cc-d2fd-e28a32481cd4"
      },
      "execution_count": null,
      "outputs": [
        {
          "output_type": "stream",
          "name": "stdout",
          "text": [
            "{'新北市': 539260, '臺中市': 470910, '高雄市': 421180, '臺北市': 344150, '臺南市': 327950, '桃園市': 270810, '彰化縣': 220060, '屏東縣': 169820, '雲林縣': 165570, '嘉義縣': 112370, '嘉義市': 97820, '宜蘭縣': 93670, '南投縣': 91630, '基隆市': 84380, '苗栗縣': 82630, '花蓮縣': 57190, '未知': 56130, '新竹縣': 55630, '新竹市': 43580, '臺東縣': 25810, '澎湖縣': 16510, '金門縣': 14980, '連江縣': 3470}\n"
          ]
        }
      ]
    },
    {
      "cell_type": "code",
      "source": [
        "# 將「各縣市的藥局數量」存入資料庫的 「pharmacies」表格，欄位包含「地區」、「數量」、「新增時間」\n",
        "import sqlite3\n",
        "import requests\n",
        "import json\n",
        "from datetime import datetime\n",
        "\n",
        "# create database\n",
        "conn = sqlite3.connect('mask.db')\n",
        "cur = conn.cursor()\n",
        "\n",
        "# create table\n",
        "cur.execute(\"\"\"CREATE TABLE IF NOT EXISTS pharmacies\n",
        "                (city text, counts text, createdAt datetime)\"\"\") # datetime format: 'YYYY-MM-DD HH:MM:SS'\n",
        "cur.execute(\"DELETE FROM pharmacies\")\n",
        "conn.commit()\n",
        "\n",
        "# get data\n",
        "url = 'https://raw.githubusercontent.com/kiang/pharmacies/master/json/points.json'\n",
        "res = requests.get(url)\n",
        "res = res.text\n",
        "data = json.loads(res)\n",
        "\n",
        "length = len(data['features'])\n",
        "med_count = {}\n",
        "for i in range(length):\n",
        "    county = data['features'][i]['properties']['county']\n",
        "    if county == '':\n",
        "        county = '未知'\n",
        "    if county not in med_count:\n",
        "        med_count[county] = 0\n",
        "    med_count[county] += 1\n",
        "\n",
        "# insert data\n",
        "for city, counts in med_count.items():\n",
        "    time = datetime.now().strftime('%Y-%m-%d %H:%M:%S')\n",
        "    print(f\"INSERT INTO pharmacies VALUES ({city}, {counts}, {time})\")\n",
        "    # cur.execute(f\"INSERT INTO pharmacies (city, counts, createdAt) VALUES ('{city}', {counts}, '{time}')\") SQL injection\n",
        "    cur.execute(\"INSERT INTO pharmacies(city, counts, createdAt) VALUES (?, ?, ?)\", (city, counts, time)) # parameterized query\n",
        "    conn.commit()\n",
        "\n",
        "# select data\n",
        "cur.execute(\"SELECT * FROM pharmacies\")\n",
        "result = cur.fetchall()\n",
        "print(result)\n",
        "\n",
        "conn.commit()\n",
        "conn.close()"
      ],
      "metadata": {
        "colab": {
          "base_uri": "https://localhost:8080/"
        },
        "id": "nraYRGsnx6Yd",
        "outputId": "059c7922-ac22-4b2e-ca12-185c2671eb72"
      },
      "execution_count": 1,
      "outputs": [
        {
          "output_type": "stream",
          "name": "stdout",
          "text": [
            "INSERT INTO pharmacies VALUES (臺北市, 339, 2023-12-25 09:44:12)\n",
            "INSERT INTO pharmacies VALUES (未知, 49, 2023-12-25 09:44:12)\n",
            "INSERT INTO pharmacies VALUES (高雄市, 422, 2023-12-25 09:44:12)\n",
            "INSERT INTO pharmacies VALUES (臺中市, 420, 2023-12-25 09:44:12)\n",
            "INSERT INTO pharmacies VALUES (臺南市, 271, 2023-12-25 09:44:12)\n",
            "INSERT INTO pharmacies VALUES (基隆市, 57, 2023-12-25 09:44:12)\n",
            "INSERT INTO pharmacies VALUES (新竹市, 39, 2023-12-25 09:44:12)\n",
            "INSERT INTO pharmacies VALUES (嘉義市, 67, 2023-12-25 09:44:12)\n",
            "INSERT INTO pharmacies VALUES (新北市, 501, 2023-12-25 09:44:12)\n",
            "INSERT INTO pharmacies VALUES (桃園市, 264, 2023-12-25 09:44:12)\n",
            "INSERT INTO pharmacies VALUES (新竹縣, 46, 2023-12-25 09:44:12)\n",
            "INSERT INTO pharmacies VALUES (宜蘭縣, 76, 2023-12-25 09:44:12)\n",
            "INSERT INTO pharmacies VALUES (苗栗縣, 56, 2023-12-25 09:44:12)\n",
            "INSERT INTO pharmacies VALUES (彰化縣, 179, 2023-12-25 09:44:12)\n",
            "INSERT INTO pharmacies VALUES (南投縣, 67, 2023-12-25 09:44:12)\n",
            "INSERT INTO pharmacies VALUES (雲林縣, 129, 2023-12-25 09:44:12)\n",
            "INSERT INTO pharmacies VALUES (嘉義縣, 84, 2023-12-25 09:44:12)\n",
            "INSERT INTO pharmacies VALUES (屏東縣, 140, 2023-12-25 09:44:12)\n",
            "INSERT INTO pharmacies VALUES (澎湖縣, 11, 2023-12-25 09:44:12)\n",
            "INSERT INTO pharmacies VALUES (花蓮縣, 46, 2023-12-25 09:44:12)\n",
            "INSERT INTO pharmacies VALUES (臺東縣, 23, 2023-12-25 09:44:12)\n",
            "INSERT INTO pharmacies VALUES (金門縣, 6, 2023-12-25 09:44:12)\n",
            "INSERT INTO pharmacies VALUES (連江縣, 1, 2023-12-25 09:44:12)\n",
            "[('臺北市', '339', '2023-12-25 09:44:12'), ('未知', '49', '2023-12-25 09:44:12'), ('高雄市', '422', '2023-12-25 09:44:12'), ('臺中市', '420', '2023-12-25 09:44:12'), ('臺南市', '271', '2023-12-25 09:44:12'), ('基隆市', '57', '2023-12-25 09:44:12'), ('新竹市', '39', '2023-12-25 09:44:12'), ('嘉義市', '67', '2023-12-25 09:44:12'), ('新北市', '501', '2023-12-25 09:44:12'), ('桃園市', '264', '2023-12-25 09:44:12'), ('新竹縣', '46', '2023-12-25 09:44:12'), ('宜蘭縣', '76', '2023-12-25 09:44:12'), ('苗栗縣', '56', '2023-12-25 09:44:12'), ('彰化縣', '179', '2023-12-25 09:44:12'), ('南投縣', '67', '2023-12-25 09:44:12'), ('雲林縣', '129', '2023-12-25 09:44:12'), ('嘉義縣', '84', '2023-12-25 09:44:12'), ('屏東縣', '140', '2023-12-25 09:44:12'), ('澎湖縣', '11', '2023-12-25 09:44:12'), ('花蓮縣', '46', '2023-12-25 09:44:12'), ('臺東縣', '23', '2023-12-25 09:44:12'), ('金門縣', '6', '2023-12-25 09:44:12'), ('連江縣', '1', '2023-12-25 09:44:12')]\n"
          ]
        }
      ]
    }
  ]
}