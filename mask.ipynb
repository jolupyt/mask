{
  "nbformat": 4,
  "nbformat_minor": 0,
  "metadata": {
    "colab": {
      "provenance": [],
      "authorship_tag": "ABX9TyPArOZZfwaR+k3r8pXEGwPf"
    },
    "kernelspec": {
      "name": "python3",
      "display_name": "Python 3"
    },
    "language_info": {
      "name": "python"
    }
  },
  "cells": [
    {
      "cell_type": "markdown",
      "source": [
        "# 與github連結"
      ],
      "metadata": {
        "id": "aMx1f0-Mxyu2"
      }
    },
    {
      "cell_type": "code",
      "execution_count": 1,
      "metadata": {
        "id": "cJ9xior5MoO3"
      },
      "outputs": [],
      "source": [
        "import requests\n",
        "import json"
      ]
    },
    {
      "cell_type": "code",
      "source": [
        "# 利用 requests 對 API 來源發送一個請求\n",
        "url = 'https://raw.githubusercontent.com/kiang/pharmacies/master/json/points.json'\n",
        "res = requests.get(url)\n",
        "\n",
        "# 將請求回應的內容存成一個字串格式\n",
        "text = res.text\n",
        "\n",
        "# json格式的字串解析成字典或列表\n",
        "data = json.loads(text) # must be str\n",
        "\n",
        "print(data)"
      ],
      "metadata": {
        "id": "zAUNwx9SMx5G",
        "colab": {
          "base_uri": "https://localhost:8080/"
        },
        "outputId": "bb53daa3-c7d5-48bd-d62c-884d55ee40b0"
      },
      "execution_count": 2,
      "outputs": [
        {
          "output_type": "stream",
          "name": "stderr",
          "text": [
            "IOPub data rate exceeded.\n",
            "The notebook server will temporarily stop sending output\n",
            "to the client in order to avoid crashing it.\n",
            "To change this limit, set the config variable\n",
            "`--NotebookApp.iopub_data_rate_limit`.\n",
            "\n",
            "Current values:\n",
            "NotebookApp.iopub_data_rate_limit=1000000.0 (bytes/sec)\n",
            "NotebookApp.rate_limit_window=3.0 (secs)\n",
            "\n"
          ]
        }
      ]
    },
    {
      "cell_type": "code",
      "source": [
        "# 計算各縣市藥局數量\n",
        "print(len(data['features']))\n",
        "data['features'][0].keys() # ['type', 'properties', 'geometry']\n",
        "data['features'][0]['properties'] # 基本資料在properties裡\n",
        "\n",
        "length = len(data['features'])\n",
        "med_count = {}\n",
        "for i in range(length):\n",
        "    county = data['features'][i]['properties']['county']\n",
        "    if county == '':\n",
        "        county = '未知'\n",
        "    if county not in med_count:\n",
        "        med_count[county] = 0\n",
        "    med_count[county] += 1\n",
        "\n",
        "med_count_sort = dict(sorted(med_count.items(), key=lambda x: x[1], reverse=True)) # return dict\n",
        "print(med_count_sort)"
      ],
      "metadata": {
        "id": "l3gNRBImNo9d",
        "colab": {
          "base_uri": "https://localhost:8080/"
        },
        "outputId": "fa3e94d7-f685-4aa0-a4f4-24dcb3b00f0e"
      },
      "execution_count": 3,
      "outputs": [
        {
          "output_type": "stream",
          "name": "stdout",
          "text": [
            "3293\n",
            "{'新北市': 501, '高雄市': 422, '臺中市': 420, '臺北市': 339, '臺南市': 271, '桃園市': 264, '彰化縣': 179, '屏東縣': 140, '雲林縣': 129, '嘉義縣': 84, '宜蘭縣': 76, '嘉義市': 67, '南投縣': 67, '基隆市': 57, '苗栗縣': 56, '未知': 49, '新竹縣': 46, '花蓮縣': 46, '新竹市': 39, '臺東縣': 23, '澎湖縣': 11, '金門縣': 6, '連江縣': 1}\n"
          ]
        }
      ]
    },
    {
      "cell_type": "code",
      "source": [
        "# 計算各縣市的成人剩餘口罩數量\n",
        "adult_mask_count = {}\n",
        "\n",
        "for i in range(length):\n",
        "    county = data['features'][i]['properties']['county']\n",
        "    if county == '':\n",
        "        county = '未知'\n",
        "    adult_mask = data['features'][i]['properties']['mask_adult']\n",
        "    if county not in adult_mask_count:\n",
        "        adult_mask_count[county] = 0\n",
        "    adult_mask_count[county] += adult_mask\n",
        "\n",
        "adult_mask_count_sort = dict(sorted(adult_mask_count.items(), key=lambda x: x[1], reverse=True))\n",
        "print(adult_mask_count_sort)"
      ],
      "metadata": {
        "colab": {
          "base_uri": "https://localhost:8080/"
        },
        "id": "weNHf1-rldUS",
        "outputId": "a5ee9605-bb1a-424f-8ece-18d809508450"
      },
      "execution_count": 4,
      "outputs": [
        {
          "output_type": "stream",
          "name": "stdout",
          "text": [
            "{'新北市': 670270, '臺中市': 536710, '高雄市': 424170, '臺南市': 393900, '桃園市': 331940, '臺北市': 322490, '彰化縣': 219400, '雲林縣': 196990, '屏東縣': 184250, '苗栗縣': 131080, '嘉義縣': 113180, '嘉義市': 107840, '宜蘭縣': 106900, '南投縣': 91240, '基隆市': 80100, '未知': 69210, '花蓮縣': 57330, '新竹縣': 51350, '新竹市': 45630, '臺東縣': 28510, '金門縣': 15510, '澎湖縣': 12600, '連江縣': 7930}\n"
          ]
        }
      ]
    },
    {
      "cell_type": "code",
      "source": [
        "# 計算各縣市的小孩剩餘口罩數量\n",
        "child_mask_count = {}\n",
        "\n",
        "for i in range(length):\n",
        "    county = data['features'][i]['properties']['county']\n",
        "    if county == '':\n",
        "        county = '未知'\n",
        "    child_mask = data['features'][i]['properties']['mask_child']\n",
        "    if county not in child_mask_count:\n",
        "        child_mask_count[county] = 0\n",
        "    child_mask_count[county] += child_mask\n",
        "\n",
        "child_mask_count_sort = dict(sorted(child_mask_count.items(), key=lambda x: x[1], reverse=True))\n",
        "print(child_mask_count_sort)"
      ],
      "metadata": {
        "colab": {
          "base_uri": "https://localhost:8080/"
        },
        "id": "Z8JWFg26ldO6",
        "outputId": "1282ece3-22f0-4b72-b519-ea5134061e25"
      },
      "execution_count": 5,
      "outputs": [
        {
          "output_type": "stream",
          "name": "stdout",
          "text": [
            "{'新北市': 539260, '臺中市': 470910, '高雄市': 421180, '臺北市': 344150, '臺南市': 327950, '桃園市': 270810, '彰化縣': 220060, '屏東縣': 169820, '雲林縣': 165570, '嘉義縣': 112370, '嘉義市': 97820, '宜蘭縣': 93670, '南投縣': 91630, '基隆市': 84380, '苗栗縣': 82630, '花蓮縣': 57190, '未知': 56130, '新竹縣': 55630, '新竹市': 43580, '臺東縣': 25810, '澎湖縣': 16510, '金門縣': 14980, '連江縣': 3470}\n"
          ]
        }
      ]
    },
    {
      "cell_type": "code",
      "source": [
        "# function\n",
        "def get_mask_count(data, mask_term):\n",
        "    length = len(data['features'])\n",
        "    mask_count = {}\n",
        "    for i in range(length):\n",
        "        county = data['features'][i]['properties']['county']\n",
        "        if county == '':\n",
        "            county = '未知'\n",
        "        mask = data['features'][i]['properties'][mask_term]\n",
        "        if county not in mask_count:\n",
        "            mask_count[county] = 0\n",
        "        mask_count[county] += mask\n",
        "    return mask_count\n",
        "\n",
        "# url = 'https://raw.githubusercontent.com/kiang/pharmacies/master/json/points.json'\n",
        "# res = requests.get(url)\n",
        "# text = res.text\n",
        "# data = json.loads(text)\n",
        "# mask_term = 'mask_adult'\n",
        "# get_mask_count(data, mask_ppl)"
      ],
      "metadata": {
        "id": "sTTH0M_YHIoe"
      },
      "execution_count": 1,
      "outputs": []
    },
    {
      "cell_type": "code",
      "source": [
        "# 計算各縣市的剩餘口罩數量\n",
        "mask_count = {}\n",
        "\n",
        "for city, value in adult_mask_count_sort.items():\n",
        "    if city not in mask_count:\n",
        "        mask_count[city] = value\n",
        "    mask_count[city] += child_mask_count_sort[city]\n",
        "mask_count"
      ],
      "metadata": {
        "colab": {
          "base_uri": "https://localhost:8080/"
        },
        "id": "VzdCPlJqYfKC",
        "outputId": "2dd2c86b-a633-42b2-dabc-3c4b3a04d758"
      },
      "execution_count": 6,
      "outputs": [
        {
          "output_type": "execute_result",
          "data": {
            "text/plain": [
              "{'新北市': 1209530,\n",
              " '臺中市': 1007620,\n",
              " '高雄市': 845350,\n",
              " '臺南市': 721850,\n",
              " '桃園市': 602750,\n",
              " '臺北市': 666640,\n",
              " '彰化縣': 439460,\n",
              " '雲林縣': 362560,\n",
              " '屏東縣': 354070,\n",
              " '苗栗縣': 213710,\n",
              " '嘉義縣': 225550,\n",
              " '嘉義市': 205660,\n",
              " '宜蘭縣': 200570,\n",
              " '南投縣': 182870,\n",
              " '基隆市': 164480,\n",
              " '未知': 125340,\n",
              " '花蓮縣': 114520,\n",
              " '新竹縣': 106980,\n",
              " '新竹市': 89210,\n",
              " '臺東縣': 54320,\n",
              " '金門縣': 30490,\n",
              " '澎湖縣': 29110,\n",
              " '連江縣': 11400}"
            ]
          },
          "metadata": {},
          "execution_count": 6
        }
      ]
    },
    {
      "cell_type": "code",
      "source": [
        "# 將「各縣市的藥局數量」存入資料庫的「pharmacies」表格，欄位包含「地區」、「數量」、「新增時間」\n",
        "import sqlite3\n",
        "import requests\n",
        "import json\n",
        "from datetime import datetime\n",
        "\n",
        "# create database\n",
        "conn = sqlite3.connect('mask.db')\n",
        "cur = conn.cursor()\n",
        "\n",
        "# create table\n",
        "cur.execute(\"\"\"CREATE TABLE IF NOT EXISTS pharmacies\n",
        "                (city text, counts text, createdAt datetime)\"\"\") # datetime format: 'YYYY-MM-DD HH:MM:SS'\n",
        "cur.execute(\"DELETE FROM pharmacies\")\n",
        "conn.commit()\n",
        "\n",
        "# get data\n",
        "url = 'https://raw.githubusercontent.com/kiang/pharmacies/master/json/points.json'\n",
        "res = requests.get(url)\n",
        "res = res.text\n",
        "data = json.loads(res)\n",
        "\n",
        "length = len(data['features'])\n",
        "med_count = {}\n",
        "for i in range(length):\n",
        "    county = data['features'][i]['properties']['county']\n",
        "    if county == '':\n",
        "        county = '未知'\n",
        "    if county not in med_count:\n",
        "        med_count[county] = 0\n",
        "    med_count[county] += 1\n",
        "\n",
        "# insert data\n",
        "for city, counts in med_count.items():\n",
        "    time = datetime.now().strftime('%Y-%m-%d %H:%M:%S')\n",
        "    print(f\"INSERT INTO pharmacies VALUES ({city}, {counts}, {time})\")\n",
        "    # cur.execute(f\"INSERT INTO pharmacies (city, counts, createdAt) VALUES ('{city}', {counts}, '{time}')\") SQL injection\n",
        "    cur.execute(\"INSERT INTO pharmacies(city, counts, createdAt) VALUES (?, ?, ?)\", (city, counts, time)) # parameterized query\n",
        "    conn.commit()\n",
        "\n",
        "# select data\n",
        "cur.execute(\"SELECT * FROM pharmacies\")\n",
        "result = cur.fetchall()\n",
        "print(result)\n",
        "\n",
        "conn.commit()\n",
        "conn.close()"
      ],
      "metadata": {
        "colab": {
          "base_uri": "https://localhost:8080/"
        },
        "id": "nraYRGsnx6Yd",
        "outputId": "059c7922-ac22-4b2e-ca12-185c2671eb72"
      },
      "execution_count": null,
      "outputs": [
        {
          "output_type": "stream",
          "name": "stdout",
          "text": [
            "INSERT INTO pharmacies VALUES (臺北市, 339, 2023-12-25 09:44:12)\n",
            "INSERT INTO pharmacies VALUES (未知, 49, 2023-12-25 09:44:12)\n",
            "INSERT INTO pharmacies VALUES (高雄市, 422, 2023-12-25 09:44:12)\n",
            "INSERT INTO pharmacies VALUES (臺中市, 420, 2023-12-25 09:44:12)\n",
            "INSERT INTO pharmacies VALUES (臺南市, 271, 2023-12-25 09:44:12)\n",
            "INSERT INTO pharmacies VALUES (基隆市, 57, 2023-12-25 09:44:12)\n",
            "INSERT INTO pharmacies VALUES (新竹市, 39, 2023-12-25 09:44:12)\n",
            "INSERT INTO pharmacies VALUES (嘉義市, 67, 2023-12-25 09:44:12)\n",
            "INSERT INTO pharmacies VALUES (新北市, 501, 2023-12-25 09:44:12)\n",
            "INSERT INTO pharmacies VALUES (桃園市, 264, 2023-12-25 09:44:12)\n",
            "INSERT INTO pharmacies VALUES (新竹縣, 46, 2023-12-25 09:44:12)\n",
            "INSERT INTO pharmacies VALUES (宜蘭縣, 76, 2023-12-25 09:44:12)\n",
            "INSERT INTO pharmacies VALUES (苗栗縣, 56, 2023-12-25 09:44:12)\n",
            "INSERT INTO pharmacies VALUES (彰化縣, 179, 2023-12-25 09:44:12)\n",
            "INSERT INTO pharmacies VALUES (南投縣, 67, 2023-12-25 09:44:12)\n",
            "INSERT INTO pharmacies VALUES (雲林縣, 129, 2023-12-25 09:44:12)\n",
            "INSERT INTO pharmacies VALUES (嘉義縣, 84, 2023-12-25 09:44:12)\n",
            "INSERT INTO pharmacies VALUES (屏東縣, 140, 2023-12-25 09:44:12)\n",
            "INSERT INTO pharmacies VALUES (澎湖縣, 11, 2023-12-25 09:44:12)\n",
            "INSERT INTO pharmacies VALUES (花蓮縣, 46, 2023-12-25 09:44:12)\n",
            "INSERT INTO pharmacies VALUES (臺東縣, 23, 2023-12-25 09:44:12)\n",
            "INSERT INTO pharmacies VALUES (金門縣, 6, 2023-12-25 09:44:12)\n",
            "INSERT INTO pharmacies VALUES (連江縣, 1, 2023-12-25 09:44:12)\n",
            "[('臺北市', '339', '2023-12-25 09:44:12'), ('未知', '49', '2023-12-25 09:44:12'), ('高雄市', '422', '2023-12-25 09:44:12'), ('臺中市', '420', '2023-12-25 09:44:12'), ('臺南市', '271', '2023-12-25 09:44:12'), ('基隆市', '57', '2023-12-25 09:44:12'), ('新竹市', '39', '2023-12-25 09:44:12'), ('嘉義市', '67', '2023-12-25 09:44:12'), ('新北市', '501', '2023-12-25 09:44:12'), ('桃園市', '264', '2023-12-25 09:44:12'), ('新竹縣', '46', '2023-12-25 09:44:12'), ('宜蘭縣', '76', '2023-12-25 09:44:12'), ('苗栗縣', '56', '2023-12-25 09:44:12'), ('彰化縣', '179', '2023-12-25 09:44:12'), ('南投縣', '67', '2023-12-25 09:44:12'), ('雲林縣', '129', '2023-12-25 09:44:12'), ('嘉義縣', '84', '2023-12-25 09:44:12'), ('屏東縣', '140', '2023-12-25 09:44:12'), ('澎湖縣', '11', '2023-12-25 09:44:12'), ('花蓮縣', '46', '2023-12-25 09:44:12'), ('臺東縣', '23', '2023-12-25 09:44:12'), ('金門縣', '6', '2023-12-25 09:44:12'), ('連江縣', '1', '2023-12-25 09:44:12')]\n"
          ]
        }
      ]
    },
    {
      "cell_type": "code",
      "source": [
        "# 將「各縣市的剩餘口罩」存入資料庫的「masks」 表格，欄位包含「地區」、「剩餘口罩數量」、「新增時間」\n",
        "import sqlite3\n",
        "import requests\n",
        "import json\n",
        "from datetime import datetime\n",
        "\n",
        "# create database\n",
        "conn = sqlite3.connect('mask.db')\n",
        "cur = conn.cursor()\n",
        "\n",
        "# create table\n",
        "cur.execute(\"CREATE TABLE IF NOT EXISTS masks (city text, counts text, createdAt datetime)\")\n",
        "cur.execute(\"DELETE FROM masks\")\n",
        "conn.commit()\n",
        "\n",
        "# get data\n",
        "url = 'https://raw.githubusercontent.com/kiang/pharmacies/master/json/points.json'\n",
        "res = requests.get(url)\n",
        "res = res.text\n",
        "data = json.loads(res)\n",
        "\n",
        "mask_count = {}\n",
        "mask_terms = ['mask_adult', 'mask_child']\n",
        "for mask_term in mask_terms:\n",
        "    masks = get_mask_count(data, mask_term)\n",
        "    for key, value in masks.items():\n",
        "        if key not in mask_count:\n",
        "            mask_count[key] = value\n",
        "        else:\n",
        "            mask_count[key] += masks[key]\n",
        "\n",
        "# insert data\n",
        "for city, counts in mask_count.items():\n",
        "    time = datetime.now().strftime('%Y-%m-%d %H:%M:%S')\n",
        "    print(f'INSERT INTO masks VALUES ({city}, {counts}, {time})')\n",
        "    cur.execute(\"INSERT INTO masks(city, counts, createdAt) VALUES (?, ?, ?)\", (city, counts, time))\n",
        "    conn.commit()"
      ],
      "metadata": {
        "id": "PID5BbfPYFS0",
        "colab": {
          "base_uri": "https://localhost:8080/"
        },
        "outputId": "743715f7-5c3a-4917-b313-717f8f062cc7"
      },
      "execution_count": 2,
      "outputs": [
        {
          "output_type": "stream",
          "name": "stdout",
          "text": [
            "INSERT INTO masks VALUES (臺北市, 666640, 2023-12-26 03:39:18)\n",
            "INSERT INTO masks VALUES (未知, 125340, 2023-12-26 03:39:18)\n",
            "INSERT INTO masks VALUES (高雄市, 845350, 2023-12-26 03:39:18)\n",
            "INSERT INTO masks VALUES (臺中市, 1007620, 2023-12-26 03:39:18)\n",
            "INSERT INTO masks VALUES (臺南市, 721850, 2023-12-26 03:39:18)\n",
            "INSERT INTO masks VALUES (基隆市, 164480, 2023-12-26 03:39:18)\n",
            "INSERT INTO masks VALUES (新竹市, 89210, 2023-12-26 03:39:18)\n",
            "INSERT INTO masks VALUES (嘉義市, 205660, 2023-12-26 03:39:18)\n",
            "INSERT INTO masks VALUES (新北市, 1209530, 2023-12-26 03:39:18)\n",
            "INSERT INTO masks VALUES (桃園市, 602750, 2023-12-26 03:39:18)\n",
            "INSERT INTO masks VALUES (新竹縣, 106980, 2023-12-26 03:39:18)\n",
            "INSERT INTO masks VALUES (宜蘭縣, 200570, 2023-12-26 03:39:18)\n",
            "INSERT INTO masks VALUES (苗栗縣, 213710, 2023-12-26 03:39:18)\n",
            "INSERT INTO masks VALUES (彰化縣, 439460, 2023-12-26 03:39:18)\n",
            "INSERT INTO masks VALUES (南投縣, 182870, 2023-12-26 03:39:18)\n",
            "INSERT INTO masks VALUES (雲林縣, 362560, 2023-12-26 03:39:18)\n",
            "INSERT INTO masks VALUES (嘉義縣, 225550, 2023-12-26 03:39:18)\n",
            "INSERT INTO masks VALUES (屏東縣, 354070, 2023-12-26 03:39:18)\n",
            "INSERT INTO masks VALUES (澎湖縣, 29110, 2023-12-26 03:39:18)\n",
            "INSERT INTO masks VALUES (花蓮縣, 114520, 2023-12-26 03:39:18)\n",
            "INSERT INTO masks VALUES (臺東縣, 54320, 2023-12-26 03:39:18)\n",
            "INSERT INTO masks VALUES (金門縣, 30490, 2023-12-26 03:39:18)\n",
            "INSERT INTO masks VALUES (連江縣, 11400, 2023-12-26 03:39:18)\n"
          ]
        }
      ]
    },
    {
      "cell_type": "code",
      "source": [
        "# select data\n",
        "cur.execute(\"SELECT city FROM masks WHERE counts > 500000\")\n",
        "result = cur.fetchall()\n",
        "print(result)\n",
        "\n",
        "conn.commit()\n",
        "conn.close()"
      ],
      "metadata": {
        "colab": {
          "base_uri": "https://localhost:8080/"
        },
        "id": "Ex5qq0r_M63H",
        "outputId": "ca13d32b-b16e-4d94-9436-e2144f89ec74"
      },
      "execution_count": 3,
      "outputs": [
        {
          "output_type": "stream",
          "name": "stdout",
          "text": [
            "[('臺北市',), ('高雄市',), ('臺南市',), ('新竹市',), ('桃園市',), ('臺東縣',)]\n"
          ]
        }
      ]
    }
  ]
}